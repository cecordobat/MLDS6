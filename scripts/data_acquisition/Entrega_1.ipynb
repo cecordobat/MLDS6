{
  "cells": [
    {
      "cell_type": "markdown",
      "id": "585dcbfa",
      "metadata": {
        "id": "585dcbfa"
      },
      "source": [
        "<img src = \"./resources/images/banner1.png\" alt = \"Encabezado MLDS\" width=\"100%\">"
      ]
    },
    {
      "cell_type": "markdown",
      "id": "82ea3b5e",
      "metadata": {
        "id": "82ea3b5e"
      },
      "source": [
        "# **Entendimiento del Negocio y Carga de Textos**\n",
        "---\n",
        "\n",
        "## **0. Integrantes del equipo de trabajo**\n",
        "---\n",
        "\n",
        "<table><thead>\n",
        "  <tr>\n",
        "    <th>#</th>\n",
        "    <th>Integrante</th>\n",
        "    <th>Documento de identidad</th>\n",
        "  </tr></thead>\n",
        "<tbody>\n",
        "  <tr>\n",
        "    <td>1</td>\n",
        "    <td>Ivonne Cristina Ruiz Páez</td>\n",
        "    <td>1014302058</td>  \n",
        "  </tr>\n",
        "  <tr>\n",
        "    <td>2</td>\n",
        "    <td>Diego Alejandro Feliciano Ramos</td>\n",
        "    <td>1024586904</td>\n",
        "  </tr>\n",
        "  <tr>\n",
        "    <td>3</td>\n",
        "    <td>Cristhian Enrique Córdoba Trillos</td>\n",
        "    <td>1030649666</td>\n",
        "  </tr>\n",
        "</tbody>\n",
        "</table>"
      ]
    },
    {
      "cell_type": "markdown",
      "id": "fdb4c33d",
      "metadata": {
        "id": "fdb4c33d"
      },
      "source": [
        "## **1. Marco de Proyecto**\n",
        "---"
      ]
    },
    {
      "cell_type": "markdown",
      "id": "7a974ec1",
      "metadata": {
        "id": "7a974ec1"
      },
      "source": [
        "### **1.1. Trasfondo del Negocio**\n",
        "---\n",
        "\n",
        "- ¿Quién es el cliente o los beneficiarios del proyecto? ¿En qué dominio se encuentran (marketing, medicina, entre otros)?\n",
        "- ¿Qué problemas del negocio o del dominio estamos tratando de solucionar?\n",
        "__________________\n",
        "\n",
        "- ¿Quién es el cliente o los beneficiarios del proyecto? ¿En qué dominio se encuentran (marketing, medicina, entre otros)?\n",
        "\n",
        "El presente proyecto está orientado al dominio de la medicina, específicamente al área de salud mental, con una fuerte vinculación con el campo de la tecnología, el procesamiento de lenguaje natural (NLP) y el análisis de sentimientos.\n",
        "\n",
        "Los beneficiarios principales de este proyecto son:\n",
        "\n",
        "* Profesionales de la salud mental (psicólogos, psiquiatras, terapeutas).\n",
        "\n",
        "* Organizaciones de salud, instituciones educativas y ONGs dedicadas al bienestar emocional.\n",
        "\n",
        "* Plataformas tecnológicas que ofrecen atención psicológica virtual.\n",
        "\n",
        "* Investigadores en ciencias sociales, salud mental y tecnología.\n",
        "\n",
        "* Usuarios en general que buscan espacios de contención o ayuda emocional.\n",
        "\n",
        "Adicionalmente, este proyecto tiene un alto potencial de aplicabilidad en el desarrollo de chatbots o sistemas automatizados de asistencia emocional, destinados a identificar signos tempranos de trastornos mentales o crisis emocionales en las personas.\n",
        "\n",
        "En un mundo cada vez más digitalizado, donde las personas tienden a expresar sus emociones y estados anímicos a través de redes sociales, foros y plataformas online, resulta estratégico desarrollar herramientas capaces de interpretar estos mensajes y actuar como primer filtro para la detección o ayuda.\n",
        "\n",
        "---\n",
        "\n",
        "- ¿Qué problemas del negocio o del dominio estamos tratando de solucionar?\n",
        "\n",
        "El proyecto aborda problemáticas concretas y actuales en el ámbito de la salud mental, donde existe una creciente preocupación por el aumento de casos de depresión, ansiedad, estrés y conductas suicidas, muchas veces expresadas de manera pública en internet sin recibir atención oportuna.\n",
        "\n",
        "Las principales problemáticas que se buscan resolver son:\n",
        "\n",
        "1. Dificultad en la detección temprana de trastornos mentales en entornos digitales.\n",
        "\n",
        "Muchas personas manifiestan su malestar emocional mediante publicaciones en redes sociales, sin acudir a un profesional. Este comportamiento crea una oportunidad para que sistemas inteligentes puedan detectar señales de alerta en lenguaje escrito.\n",
        "\n",
        "2. Ausencia de herramientas automatizadas eficientes para clasificar estados de salud mental.\n",
        "\n",
        "Aunque existen herramientas relacioandas con estos temas, la mayoría se enfocan principalmente en el análisis de emociones. Es importante desarrollar modelos o sistemas automatizados de salud mental, confiables y escalables, que permitan diferenciar y clasificar estados emocionales complejos como: depresión, ansiedad, estrés, bipolaridad, riesgo suicida, entre otros, a partir de datos textuales.\n",
        "\n",
        "3. Necesidad de mejorar la asistencia virtual en salud mental.\n",
        "\n",
        "El uso de chatbots en salud mental se encuentra en crecimiento, pero estos sistemas requieren un entrenamiento basado en datos reales y bien etiquetados que les permita interpretar correctamente las emociones y brindar respuestas empáticas y adecuadas.\n",
        "\n",
        "4. Falta de análisis masivo de tendencias en salud mental basado en lenguaje.\n",
        "\n",
        "El procesamiento de grandes volúmenes de textos permite a las instituciones de salud analizar patrones o tendencias sociales, facilitando la toma de decisiones preventivas o campañas específicas más efectivas.\n",
        "\n",
        "5. Aprovechamiento insuficiente de datos disponibles en redes sociales.\n",
        "\n",
        "Actualmente, existe una cantidad inmensa de datos no estructurados (mensajes, tweets, publicaciones) que pueden aportar información valiosa sobre el estado emocional de las personas, pero que requieren técnicas de NLP para ser procesados y analizados para tomar decisiones informadas sobre estas problemáticas."
      ]
    },
    {
      "cell_type": "markdown",
      "id": "d09c63e5",
      "metadata": {
        "id": "d09c63e5"
      },
      "source": [
        "### **1.2. Alcance**\n",
        "---\n",
        "\n",
        "- ¿Qué  solución de procesamiento de lenguaje natural tratamos de implementar?\n",
        "- ¿Qué  se hará?\n",
        "- ¿De qué forma el cliente o beneficiario utilizará el producto del proyecto?\n",
        "---\n",
        "¿Qué solución se plantea?\n",
        "\n",
        "El proyecto busca implementar una solución basada en Procesamiento de Lenguaje Natural (NLP) que permita analizar textos provenientes de diferentes plataformas digitales (como redes sociales, foros y comunidades online) con el objetivo de identificar y clasificar el estado de salud mental de las personas en función de sus publicaciones.\n",
        "\n",
        "La solución a desarrollar consistirá en realizar un análisis de sentimiento y un modelo de clasificación de texto entrenado para predecir el estado emocional o mental de un usuario, a partir de una entrada de texto. Este modelo tendrá la capacidad de categorizar automáticamente los siguientes estados de salud mental:\n",
        "\n",
        "* Normal\n",
        "\n",
        "* Depresión\n",
        "\n",
        "* Ansiedad\n",
        "\n",
        "* Estrés\n",
        "\n",
        "* Bipolaridad\n",
        "\n",
        "* Suicidio\n",
        "\n",
        "* Trastorno de personalidad\n",
        "\n",
        "El desarrollo de esta solución supone el uso de técnicas de Machine Learning y NLP.\n",
        "\n",
        "---\n",
        "\n",
        "* ¿Cómo se hará?\n",
        "\n",
        "1. Se realizará el análisis, limpieza, preprocesamiento y exploración del conjunto de datos, con el objetivo de preparar adecuadamente los textos para su análisis, utilizando técnicas de eliminación de ruido, normalización, tokenización, lematización, entre otros.\n",
        "\n",
        "2. Se implementarán y entrenarán distintos modelos de NLP y clasificación de texto, evaluando su desempeño mediante métricas como precisión, recall y F1-score.\n",
        "\n",
        "3. Se desarrollará un prototipo funcional tipo demo que permita predecir el estado de salud mental a partir de un texto libre ingresado por el usuario.\n",
        "\n",
        "4. Se generarán visualizaciones que faciliten la interpretación de los resultados y permitan comunicar las diferentes conclusiones de manera clara.\n",
        "\n",
        "---\n",
        "\n",
        "* ¿De qué forma el cliente o beneficiario utilizará el producto del proyecto?\n",
        "\n",
        "El producto final de este proyecto podrá ser utilizado de diversas formas, dependiendo del perfil de cada beneficiario. A nivel general, las organizaciones de salud mental podrán emplearlo como una herramienta de soporte que facilite un análisis automático inicial de mensajes de usuarios en chats, foros o redes sociales, permitiendo además priorizar o alertar sobre posibles casos de riesgo, como tendencias suicidas, y derivarlos oportunamente a atención especializada. Por otro lado, las plataformas tecnológicas, como aplicaciones móviles, chatbots o sitios web, podrán integrar el modelo de NLP desarrollado para adaptar las respuestas de sus asistentes virtuales de acuerdo con el estado emocional detectado, así como para ofrecer recomendaciones personalizadas o recursos de ayuda adecuados a la situación del usuario. Asimismo, los investigadores o analistas de datos podrán utilizar esta solución como una herramienta de análisis masivo de datos textuales, lo que les permitirá analizar tendencias de salud mental dentro de comunidades online. Finalmente, los usuarios finales también se beneficiarán de esta solución, ya que, a través de aplicaciones o sitios web, podrán ingresar un texto libre y obtener un análisis de su posible estado emocional, acompañado de sugerencias, recursos o información de ayuda, contribuyendo así al bienestar emocional y a la prevención de problemas de salud mental.\n"
      ]
    },
    {
      "cell_type": "markdown",
      "id": "370e4a5d",
      "metadata": {
        "id": "370e4a5d"
      },
      "source": [
        "### **1.3. Plan**"
      ]
    },
    {
      "cell_type": "markdown",
      "id": "3b465355",
      "metadata": {
        "id": "3b465355"
      },
      "source": [
        "---\n",
        "\n",
        "Para la ejecución de las actividades se tomó la decisión de usar [GitHub](https://github.com/) con Jira integrado, esto permitirá llevar un seguimiento detallado del trabajo a realizar a su vez de intentar asegurar la calidad de los entregables.\n",
        "\n",
        "\n",
        "A continuación se detalla el [diagrama de Gantt llevado a cabo con Jira](https://unal-team-mlds-project.atlassian.net/jira/software/projects/MLDS3/boards/3/timeline) con las tareas conocidas hasta ahora:\n",
        "\n",
        "<img src=\"./resources/images/gantt1.png\" alt=\"Diagrama de Gantt\" width=\"100%\"></img>\n",
        "\n",
        "También se hace constar que el proyecto, tal y como fue creado y seguirá siendo modificado en Jira, constará de épicas que corresponden a cada entrega del proyecto, con tareas que engloban los puntos iniciales a realizar y subtareas que describen mejor cada uno de los subitems que se deben realizar en el punto.\n",
        "\n",
        "Además del [estado actual de las epicas, tareas y subtareas](https://unal-team-mlds-project.atlassian.net/jira/software/projects/MLDS3/boards/3):\n",
        "\n",
        "<img src=\"./resources/images/sprintView.png\" alt = \"Vista del sprint\" width=\"100%\"></img>\n",
        "\n",
        "También, se añade una vista detallada de una de las tareas para mayor claridad sobre la distribución y asignación de tareas:\n",
        "\n",
        "<img src=\"./resources/images/taskView.png\" alt = \"Vista de tarea\" width=\"100%\"></img>\n",
        "\n",
        "Por último, se añade una visualización al trabajo conocido y estimado hasta ahora en [el backlog del proyecto](https://unal-team-mlds-project.atlassian.net/jira/software/projects/MLDS3/boards/3/backlog):\n",
        "\n",
        "<img src=\"./resources/images/backlog1.png\" alt=\"Vista del backlog\" width=\"100%\"></img>"
      ]
    },
    {
      "cell_type": "markdown",
      "id": "4a4e145b",
      "metadata": {
        "id": "4a4e145b"
      },
      "source": [
        "## **2. Definición del Corpus**\n",
        "---"
      ]
    },
    {
      "cell_type": "markdown",
      "id": "2c5f8274",
      "metadata": {
        "id": "2c5f8274"
      },
      "source": [
        "### **2.1. Origen**\n",
        "---\n",
        "\n",
        "- ¿De dónde vienen los textos?\n",
        "- ¿Se usa alguna herramienta o proceso para la descarga de la información textual?\n",
        "- ¿Qué tipo de textos estamos manejando?\n",
        "\n",
        "---\n",
        "\n",
        "* ¿De dónde vienen los textos?\n",
        "\n",
        "Este conjunto de datos es una colección meticulosamente seleccionada de estados de salud mental, etiquetados a partir de diversas publicaciones en redes sociales, entre otras fuentes. El conjunto de datos fusiona datos sin procesar de múltiples fuentes, tales como: \n",
        "\n",
        "* Publicaciones de distintas redes sociales (Reddit, Twitter, etc.)\n",
        "* Conversaciones con chatbots (ChatGPT, GPT-3, etc.)\n",
        "\n",
        "\n",
        "El conjunto de datos integra información de los siguientes conjuntos de datos de Kaggle:\n",
        "\n",
        "* 3k Conversations Dataset for Chatbot\n",
        "* Depression Reddit Cleaned\n",
        "* Human Stress Prediction\n",
        "* Predicting Anxiety in Mental Health Data\n",
        "* Mental Health Dataset Bipolar\n",
        "* Reddit Mental Health Data\n",
        "* Students Anxiety and Depression Dataset\n",
        "* Suicidal Mental Health Dataset\n",
        "* Suicidal Tweet Detection Dataset\n",
        "___\n",
        "\n",
        "¿Se usa alguna herramienta o proceso para la descarga de la información textual?\n",
        "\n",
        "* Sí, se utiliza la API de Twitter para recolectar los tweets. Esta API permite acceder a los datos públicos de Twitter y extraer tweets que mencionan a los políticos colombianos de interés (Gustavo Petro, Uribe Vélez, Gustavo Bolívar, Enrique Peñalosa, etc.).\n",
        "Además, se pueden utilizar herramientas como Tweepy o Tiwkit (bibliotecas de Python) para interactuar con la API de Twitter y automatizar el proceso de recolección de datos.\n",
        "___\n",
        "\n",
        "¿Qué tipo de textos estamos manejando?\n",
        "\n",
        "El conjunto de datos consta de publicaciones etiquetadas con uno de los siguientes siete estados de salud mental:\n",
        "\n",
        "* Normal\n",
        "* Depresión\n",
        "* Suicidio\n",
        "* Ansiedad\n",
        "* Estrés\n",
        "* Bipolar\n",
        "* Trastorno de la personalidad"
      ]
    },
    {
      "cell_type": "markdown",
      "id": "4a9cc180",
      "metadata": {
        "id": "4a9cc180"
      },
      "source": [
        "### **2.2. Carga o Adquisición de Textos**\n",
        "---"
      ]
    },
    {
      "cell_type": "markdown",
      "id": "4b631d6c",
      "metadata": {},
      "source": [
        "Para la carga o adquisicón de texto utilizaremos los siguientes fragmentos de código en Python:\n",
        "\n",
        "1° * Importar las bibliotecas necesarias:"
      ]
    },
    {
      "cell_type": "code",
      "execution_count": 1,
      "id": "5305b4cf",
      "metadata": {},
      "outputs": [
        {
          "name": "stdout",
          "output_type": "stream",
          "text": [
            "Requirement already satisfied: kagglehub in /opt/anaconda3/lib/python3.12/site-packages (0.3.11)\n",
            "Requirement already satisfied: packaging in /opt/anaconda3/lib/python3.12/site-packages (from kagglehub) (23.2)\n",
            "Requirement already satisfied: pyyaml in /opt/anaconda3/lib/python3.12/site-packages (from kagglehub) (6.0.1)\n",
            "Requirement already satisfied: requests in /opt/anaconda3/lib/python3.12/site-packages (from kagglehub) (2.32.2)\n",
            "Requirement already satisfied: tqdm in /opt/anaconda3/lib/python3.12/site-packages (from kagglehub) (4.66.4)\n",
            "Requirement already satisfied: charset-normalizer<4,>=2 in /opt/anaconda3/lib/python3.12/site-packages (from requests->kagglehub) (2.0.4)\n",
            "Requirement already satisfied: idna<4,>=2.5 in /opt/anaconda3/lib/python3.12/site-packages (from requests->kagglehub) (3.7)\n",
            "Requirement already satisfied: urllib3<3,>=1.21.1 in /opt/anaconda3/lib/python3.12/site-packages (from requests->kagglehub) (2.2.2)\n",
            "Requirement already satisfied: certifi>=2017.4.17 in /opt/anaconda3/lib/python3.12/site-packages (from requests->kagglehub) (2024.8.30)\n",
            "Note: you may need to restart the kernel to use updated packages.\n"
          ]
        }
      ],
      "source": [
        "%pip install kagglehub"
      ]
    },
    {
      "cell_type": "code",
      "execution_count": 4,
      "id": "4dcbaeef",
      "metadata": {},
      "outputs": [],
      "source": [
        "import pandas as pd"
      ]
    },
    {
      "cell_type": "markdown",
      "id": "beceee5c",
      "metadata": {},
      "source": [
        "2° * Usar la librería recien instalada para obtener el dataset de Kaggle Hub:"
      ]
    },
    {
      "cell_type": "code",
      "execution_count": null,
      "id": "6f719b28",
      "metadata": {},
      "outputs": [
        {
          "name": "stdout",
          "output_type": "stream",
          "text": [
            "Path to dataset files: /Users/diegof/.cache/kagglehub/datasets/suchintikasarkar/sentiment-analysis-for-mental-health/versions/1\n"
          ]
        }
      ],
      "source": [
        "import kagglehub\n",
        "\n",
        "# Descarga la última versión del dataset\n",
        "path = kagglehub.dataset_download(\"suchintikasarkar/sentiment-analysis-for-mental-health\")\n",
        "\n",
        "print(\"Path to dataset files:\", path)"
      ]
    },
    {
      "cell_type": "markdown",
      "id": "62a3cf66",
      "metadata": {},
      "source": [
        "3° * Cargar los datos del dataset en un dataframe de Pandas:"
      ]
    },
    {
      "cell_type": "code",
      "execution_count": null,
      "id": "30f84d43",
      "metadata": {},
      "outputs": [],
      "source": [
        "# Carga la data del dataset\n",
        "path = '/Users/diegof/.cache/kagglehub/datasets/suchintikasarkar/sentiment-analysis-for-mental-health/versions/1/Combined Data.csv'\n",
        "df = pd.read_csv(path)"
      ]
    },
    {
      "cell_type": "markdown",
      "id": "c02de6d8",
      "metadata": {},
      "source": [
        "4° * Imprimir en pantalla las primeras filas del dataframe:"
      ]
    },
    {
      "cell_type": "code",
      "execution_count": null,
      "id": "0cc33dae",
      "metadata": {},
      "outputs": [
        {
          "name": "stdout",
          "output_type": "stream",
          "text": [
            "   Unnamed: 0                                          statement   status\n",
            "0           0                                         oh my gosh  Anxiety\n",
            "1           1  trouble sleeping, confused mind, restless hear...  Anxiety\n",
            "2           2  All wrong, back off dear, forward doubt. Stay ...  Anxiety\n",
            "3           3  I've shifted my focus to something else but I'...  Anxiety\n",
            "4           4  I'm restless and restless, it's been a month n...  Anxiety\n"
          ]
        }
      ],
      "source": [
        "# Muestra las primeras filas del dataframe\n",
        "print(df.head())"
      ]
    },
    {
      "cell_type": "code",
      "execution_count": 7,
      "id": "5ffb5ee5",
      "metadata": {},
      "outputs": [
        {
          "name": "stdout",
          "output_type": "stream",
          "text": [
            "Index(['Unnamed: 0', 'statement', 'status'], dtype='object')\n"
          ]
        }
      ],
      "source": [
        "print(df.columns)"
      ]
    },
    {
      "cell_type": "markdown",
      "id": "698f42d4",
      "metadata": {
        "id": "698f42d4"
      },
      "source": [
        "## **Créditos**\n",
        "\n",
        "* **Profesor:** [Felipe Restrepo Calle](https://dis.unal.edu.co/~ferestrepoca/)\n",
        "* **Asistentes docentes:**\n",
        "    - [Juan Sebastián Lara Ramírez](https://www.linkedin.com/in/juan-sebastian-lara-ramirez-43570a214/).\n",
        "* **Diseño de imágenes:**\n",
        "    - [Rosa Alejandra Superlano Esquibel](mailto:rsuperlano@unal.edu.co).\n",
        "* **Coordinador de virtualización:**\n",
        "    - [Edder Hernández Forero](https://www.linkedin.com/in/edder-hernandez-forero-28aa8b207/).\n",
        "\n",
        "**Universidad Nacional de Colombia** - *Facultad de Ingeniería*"
      ]
    }
  ],
  "metadata": {
    "colab": {
      "provenance": []
    },
    "jupytext": {
      "cell_metadata_filter": "-all"
    },
    "kernelspec": {
      "display_name": "base",
      "language": "python",
      "name": "python3"
    },
    "language_info": {
      "codemirror_mode": {
        "name": "ipython",
        "version": 3
      },
      "file_extension": ".py",
      "mimetype": "text/x-python",
      "name": "python",
      "nbconvert_exporter": "python",
      "pygments_lexer": "ipython3",
      "version": "3.12.4"
    }
  },
  "nbformat": 4,
  "nbformat_minor": 5
}
