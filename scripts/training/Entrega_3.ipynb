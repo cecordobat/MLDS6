{
  "cells": [
    {
      "cell_type": "markdown",
      "source": [
        "<img src=\"https://drive.google.com/uc?export=view&id=1AH7OKu1s0FsJA3Dj3R9Z37I4gi0eb2Jq\" width=\"100%\">"
      ],
      "metadata": {
        "id": "Zc6RmcjDDybZ"
      },
      "id": "Zc6RmcjDDybZ"
    },
    {
      "cell_type": "markdown",
      "id": "82ea3b5e",
      "metadata": {
        "id": "82ea3b5e"
      },
      "source": [
        "# **Entrega 3**\n",
        "---\n",
        "\n",
        "## **0. Equipo de trabajo**\n",
        "---\n",
        "\n",
        "### **0.1. Integrantes del equipo de trabajo**\n",
        "\n",
        "\n",
        "<table><thead>\n",
        "\n",
        "  <tr>\n",
        "    <td>1</td>\n",
        "    <td>Cristhian Enrique Córdoba Trillos</td>\n",
        "    <td>1030649666</td>\n",
        "  </tr>\n",
        "</tbody>\n",
        "</table>"
      ]
    },
    {
      "cell_type": "markdown",
      "id": "4a4e145b",
      "metadata": {
        "id": "4a4e145b"
      },
      "source": [
        "## **1. Evaluación de modelos**\n",
        "---"
      ]
    },
    {
      "cell_type": "code",
      "execution_count": 1,
      "id": "5305b4cf",
      "metadata": {
        "colab": {
          "base_uri": "https://localhost:8080/"
        },
        "id": "5305b4cf",
        "outputId": "8788a0b4-e620-4978-b050-38921ce9690e"
      },
      "outputs": [
        {
          "output_type": "stream",
          "name": "stdout",
          "text": [
            "Librerías cargadas exitosamente\n"
          ]
        }
      ],
      "source": [
        "import numpy as np\n",
        "import pandas as pd\n",
        "import matplotlib.pyplot as plt\n",
        "import seaborn as sns\n",
        "from sklearn.model_selection import train_test_split, cross_val_score\n",
        "from sklearn.preprocessing import StandardScaler, LabelEncoder\n",
        "from sklearn.metrics import classification_report, confusion_matrix, roc_auc_score, roc_curve, precision_score, recall_score, f1_score\n",
        "from sklearn.ensemble import RandomForestClassifier, GradientBoostingClassifier\n",
        "from sklearn.linear_model import LogisticRegression\n",
        "from sklearn.svm import SVC\n",
        "from sklearn.neighbors import KNeighborsClassifier\n",
        "import tensorflow as tf\n",
        "from tensorflow import keras\n",
        "import xgboost as xgb\n",
        "import lightgbm as lgb\n",
        "import warnings\n",
        "import kagglehub\n",
        "from kagglehub import KaggleDatasetAdapter\n",
        "warnings.filterwarnings('ignore')\n",
        "print(\"Librerías cargadas exitosamente\")"
      ]
    },
    {
      "cell_type": "code",
      "source": [
        "!pip install -q gdown\n",
        "import gdown\n",
        "file_id = \"1ti4-vA4cQw9s9vU3mvEibsYHwOjGeR5U\"\n",
        "output = \"fraud_df.csv\"\n",
        "# Descargar\n",
        "gdown.download(f\"https://drive.google.com/uc?id={file_id}\", output, quiet=False)\n",
        "# Cargarlo\n",
        "import pandas as pd\n",
        "df = pd.read_csv(output)"
      ],
      "metadata": {
        "colab": {
          "base_uri": "https://localhost:8080/"
        },
        "id": "FrMETREHSaDO",
        "outputId": "338e5144-2178-418b-e1d6-beab48057083"
      },
      "id": "FrMETREHSaDO",
      "execution_count": 2,
      "outputs": [
        {
          "output_type": "stream",
          "name": "stderr",
          "text": [
            "Downloading...\n",
            "From: https://drive.google.com/uc?id=1ti4-vA4cQw9s9vU3mvEibsYHwOjGeR5U\n",
            "To: /content/fraud_df.csv\n",
            "100%|██████████| 50.0M/50.0M [00:00<00:00, 123MB/s]\n"
          ]
        }
      ]
    },
    {
      "cell_type": "code",
      "source": [
        "pd.set_option('display.max_columns', None)\n",
        "categorical_columns = ['category', 'gender', 'state', 'job', 'city', 'merchant']\n",
        "numerical_columns = ['amt', 'lat', 'long', 'city_pop', 'merch_lat', 'merch_long',\n",
        "                     'day', 'month', 'hour', 'minute', 'age']\n",
        "df.head(2)"
      ],
      "metadata": {
        "colab": {
          "base_uri": "https://localhost:8080/",
          "height": 201
        },
        "id": "gak15laA9nLV",
        "outputId": "9b824a17-d60e-4c0e-8fde-5b24de04f283"
      },
      "id": "gak15laA9nLV",
      "execution_count": 3,
      "outputs": [
        {
          "output_type": "execute_result",
          "data": {
            "text/plain": [
              "             cc_num                          merchant       category    amt  \\\n",
              "0  5359543825610251  fraud_Jenkins, Hauck and Friesen  gas_transport  59.91   \n",
              "1  5540636818935089              fraud_Jast-McDermott   shopping_pos   3.96   \n",
              "\n",
              "     first     last gender                   street      city state    zip  \\\n",
              "0  Michael  Francis      M  1833 Jeanette Stravenue  Belgrade    MT  59714   \n",
              "1  Kenneth   Foster      M    329 Michael Extension  Lawrence    MA   1843   \n",
              "\n",
              "       lat      long  city_pop                 job         dob  \\\n",
              "0  45.7801 -111.1439     18182  Engineer, drilling  1975-06-29   \n",
              "1  42.6911  -71.1605     76383        Geoscientist  1985-04-04   \n",
              "\n",
              "                          trans_num   unix_time  merch_lat  merch_long  \\\n",
              "0  784eb609215cbaf3725642a7a9f8bb57  1379488419  45.274075 -111.649432   \n",
              "1  74e0ceb1e273a4a37f56dd2b5e6ce03d  1386265705  43.356278  -71.008959   \n",
              "\n",
              "   is_fraud  day  month  year  hour  minute  year_dob  age grupo_edad  \n",
              "0         0   18      9  2020     7      13      1975   45      40-49  \n",
              "1         0    5     12  2020    17      48      1985   35      30-39  "
            ],
            "text/html": [
              "\n",
              "  <div id=\"df-806813b8-d7f9-426d-92f4-f76256260b06\" class=\"colab-df-container\">\n",
              "    <div>\n",
              "<style scoped>\n",
              "    .dataframe tbody tr th:only-of-type {\n",
              "        vertical-align: middle;\n",
              "    }\n",
              "\n",
              "    .dataframe tbody tr th {\n",
              "        vertical-align: top;\n",
              "    }\n",
              "\n",
              "    .dataframe thead th {\n",
              "        text-align: right;\n",
              "    }\n",
              "</style>\n",
              "<table border=\"1\" class=\"dataframe\">\n",
              "  <thead>\n",
              "    <tr style=\"text-align: right;\">\n",
              "      <th></th>\n",
              "      <th>cc_num</th>\n",
              "      <th>merchant</th>\n",
              "      <th>category</th>\n",
              "      <th>amt</th>\n",
              "      <th>first</th>\n",
              "      <th>last</th>\n",
              "      <th>gender</th>\n",
              "      <th>street</th>\n",
              "      <th>city</th>\n",
              "      <th>state</th>\n",
              "      <th>zip</th>\n",
              "      <th>lat</th>\n",
              "      <th>long</th>\n",
              "      <th>city_pop</th>\n",
              "      <th>job</th>\n",
              "      <th>dob</th>\n",
              "      <th>trans_num</th>\n",
              "      <th>unix_time</th>\n",
              "      <th>merch_lat</th>\n",
              "      <th>merch_long</th>\n",
              "      <th>is_fraud</th>\n",
              "      <th>day</th>\n",
              "      <th>month</th>\n",
              "      <th>year</th>\n",
              "      <th>hour</th>\n",
              "      <th>minute</th>\n",
              "      <th>year_dob</th>\n",
              "      <th>age</th>\n",
              "      <th>grupo_edad</th>\n",
              "    </tr>\n",
              "  </thead>\n",
              "  <tbody>\n",
              "    <tr>\n",
              "      <th>0</th>\n",
              "      <td>5359543825610251</td>\n",
              "      <td>fraud_Jenkins, Hauck and Friesen</td>\n",
              "      <td>gas_transport</td>\n",
              "      <td>59.91</td>\n",
              "      <td>Michael</td>\n",
              "      <td>Francis</td>\n",
              "      <td>M</td>\n",
              "      <td>1833 Jeanette Stravenue</td>\n",
              "      <td>Belgrade</td>\n",
              "      <td>MT</td>\n",
              "      <td>59714</td>\n",
              "      <td>45.7801</td>\n",
              "      <td>-111.1439</td>\n",
              "      <td>18182</td>\n",
              "      <td>Engineer, drilling</td>\n",
              "      <td>1975-06-29</td>\n",
              "      <td>784eb609215cbaf3725642a7a9f8bb57</td>\n",
              "      <td>1379488419</td>\n",
              "      <td>45.274075</td>\n",
              "      <td>-111.649432</td>\n",
              "      <td>0</td>\n",
              "      <td>18</td>\n",
              "      <td>9</td>\n",
              "      <td>2020</td>\n",
              "      <td>7</td>\n",
              "      <td>13</td>\n",
              "      <td>1975</td>\n",
              "      <td>45</td>\n",
              "      <td>40-49</td>\n",
              "    </tr>\n",
              "    <tr>\n",
              "      <th>1</th>\n",
              "      <td>5540636818935089</td>\n",
              "      <td>fraud_Jast-McDermott</td>\n",
              "      <td>shopping_pos</td>\n",
              "      <td>3.96</td>\n",
              "      <td>Kenneth</td>\n",
              "      <td>Foster</td>\n",
              "      <td>M</td>\n",
              "      <td>329 Michael Extension</td>\n",
              "      <td>Lawrence</td>\n",
              "      <td>MA</td>\n",
              "      <td>1843</td>\n",
              "      <td>42.6911</td>\n",
              "      <td>-71.1605</td>\n",
              "      <td>76383</td>\n",
              "      <td>Geoscientist</td>\n",
              "      <td>1985-04-04</td>\n",
              "      <td>74e0ceb1e273a4a37f56dd2b5e6ce03d</td>\n",
              "      <td>1386265705</td>\n",
              "      <td>43.356278</td>\n",
              "      <td>-71.008959</td>\n",
              "      <td>0</td>\n",
              "      <td>5</td>\n",
              "      <td>12</td>\n",
              "      <td>2020</td>\n",
              "      <td>17</td>\n",
              "      <td>48</td>\n",
              "      <td>1985</td>\n",
              "      <td>35</td>\n",
              "      <td>30-39</td>\n",
              "    </tr>\n",
              "  </tbody>\n",
              "</table>\n",
              "</div>\n",
              "    <div class=\"colab-df-buttons\">\n",
              "\n",
              "  <div class=\"colab-df-container\">\n",
              "    <button class=\"colab-df-convert\" onclick=\"convertToInteractive('df-806813b8-d7f9-426d-92f4-f76256260b06')\"\n",
              "            title=\"Convert this dataframe to an interactive table.\"\n",
              "            style=\"display:none;\">\n",
              "\n",
              "  <svg xmlns=\"http://www.w3.org/2000/svg\" height=\"24px\" viewBox=\"0 -960 960 960\">\n",
              "    <path d=\"M120-120v-720h720v720H120Zm60-500h600v-160H180v160Zm220 220h160v-160H400v160Zm0 220h160v-160H400v160ZM180-400h160v-160H180v160Zm440 0h160v-160H620v160ZM180-180h160v-160H180v160Zm440 0h160v-160H620v160Z\"/>\n",
              "  </svg>\n",
              "    </button>\n",
              "\n",
              "  <style>\n",
              "    .colab-df-container {\n",
              "      display:flex;\n",
              "      gap: 12px;\n",
              "    }\n",
              "\n",
              "    .colab-df-convert {\n",
              "      background-color: #E8F0FE;\n",
              "      border: none;\n",
              "      border-radius: 50%;\n",
              "      cursor: pointer;\n",
              "      display: none;\n",
              "      fill: #1967D2;\n",
              "      height: 32px;\n",
              "      padding: 0 0 0 0;\n",
              "      width: 32px;\n",
              "    }\n",
              "\n",
              "    .colab-df-convert:hover {\n",
              "      background-color: #E2EBFA;\n",
              "      box-shadow: 0px 1px 2px rgba(60, 64, 67, 0.3), 0px 1px 3px 1px rgba(60, 64, 67, 0.15);\n",
              "      fill: #174EA6;\n",
              "    }\n",
              "\n",
              "    .colab-df-buttons div {\n",
              "      margin-bottom: 4px;\n",
              "    }\n",
              "\n",
              "    [theme=dark] .colab-df-convert {\n",
              "      background-color: #3B4455;\n",
              "      fill: #D2E3FC;\n",
              "    }\n",
              "\n",
              "    [theme=dark] .colab-df-convert:hover {\n",
              "      background-color: #434B5C;\n",
              "      box-shadow: 0px 1px 3px 1px rgba(0, 0, 0, 0.15);\n",
              "      filter: drop-shadow(0px 1px 2px rgba(0, 0, 0, 0.3));\n",
              "      fill: #FFFFFF;\n",
              "    }\n",
              "  </style>\n",
              "\n",
              "    <script>\n",
              "      const buttonEl =\n",
              "        document.querySelector('#df-806813b8-d7f9-426d-92f4-f76256260b06 button.colab-df-convert');\n",
              "      buttonEl.style.display =\n",
              "        google.colab.kernel.accessAllowed ? 'block' : 'none';\n",
              "\n",
              "      async function convertToInteractive(key) {\n",
              "        const element = document.querySelector('#df-806813b8-d7f9-426d-92f4-f76256260b06');\n",
              "        const dataTable =\n",
              "          await google.colab.kernel.invokeFunction('convertToInteractive',\n",
              "                                                    [key], {});\n",
              "        if (!dataTable) return;\n",
              "\n",
              "        const docLinkHtml = 'Like what you see? Visit the ' +\n",
              "          '<a target=\"_blank\" href=https://colab.research.google.com/notebooks/data_table.ipynb>data table notebook</a>'\n",
              "          + ' to learn more about interactive tables.';\n",
              "        element.innerHTML = '';\n",
              "        dataTable['output_type'] = 'display_data';\n",
              "        await google.colab.output.renderOutput(dataTable, element);\n",
              "        const docLink = document.createElement('div');\n",
              "        docLink.innerHTML = docLinkHtml;\n",
              "        element.appendChild(docLink);\n",
              "      }\n",
              "    </script>\n",
              "  </div>\n",
              "\n",
              "\n",
              "    <div id=\"df-f377ffbc-6a18-4de4-a678-5eb87ef6e4b4\">\n",
              "      <button class=\"colab-df-quickchart\" onclick=\"quickchart('df-f377ffbc-6a18-4de4-a678-5eb87ef6e4b4')\"\n",
              "                title=\"Suggest charts\"\n",
              "                style=\"display:none;\">\n",
              "\n",
              "<svg xmlns=\"http://www.w3.org/2000/svg\" height=\"24px\"viewBox=\"0 0 24 24\"\n",
              "     width=\"24px\">\n",
              "    <g>\n",
              "        <path d=\"M19 3H5c-1.1 0-2 .9-2 2v14c0 1.1.9 2 2 2h14c1.1 0 2-.9 2-2V5c0-1.1-.9-2-2-2zM9 17H7v-7h2v7zm4 0h-2V7h2v10zm4 0h-2v-4h2v4z\"/>\n",
              "    </g>\n",
              "</svg>\n",
              "      </button>\n",
              "\n",
              "<style>\n",
              "  .colab-df-quickchart {\n",
              "      --bg-color: #E8F0FE;\n",
              "      --fill-color: #1967D2;\n",
              "      --hover-bg-color: #E2EBFA;\n",
              "      --hover-fill-color: #174EA6;\n",
              "      --disabled-fill-color: #AAA;\n",
              "      --disabled-bg-color: #DDD;\n",
              "  }\n",
              "\n",
              "  [theme=dark] .colab-df-quickchart {\n",
              "      --bg-color: #3B4455;\n",
              "      --fill-color: #D2E3FC;\n",
              "      --hover-bg-color: #434B5C;\n",
              "      --hover-fill-color: #FFFFFF;\n",
              "      --disabled-bg-color: #3B4455;\n",
              "      --disabled-fill-color: #666;\n",
              "  }\n",
              "\n",
              "  .colab-df-quickchart {\n",
              "    background-color: var(--bg-color);\n",
              "    border: none;\n",
              "    border-radius: 50%;\n",
              "    cursor: pointer;\n",
              "    display: none;\n",
              "    fill: var(--fill-color);\n",
              "    height: 32px;\n",
              "    padding: 0;\n",
              "    width: 32px;\n",
              "  }\n",
              "\n",
              "  .colab-df-quickchart:hover {\n",
              "    background-color: var(--hover-bg-color);\n",
              "    box-shadow: 0 1px 2px rgba(60, 64, 67, 0.3), 0 1px 3px 1px rgba(60, 64, 67, 0.15);\n",
              "    fill: var(--button-hover-fill-color);\n",
              "  }\n",
              "\n",
              "  .colab-df-quickchart-complete:disabled,\n",
              "  .colab-df-quickchart-complete:disabled:hover {\n",
              "    background-color: var(--disabled-bg-color);\n",
              "    fill: var(--disabled-fill-color);\n",
              "    box-shadow: none;\n",
              "  }\n",
              "\n",
              "  .colab-df-spinner {\n",
              "    border: 2px solid var(--fill-color);\n",
              "    border-color: transparent;\n",
              "    border-bottom-color: var(--fill-color);\n",
              "    animation:\n",
              "      spin 1s steps(1) infinite;\n",
              "  }\n",
              "\n",
              "  @keyframes spin {\n",
              "    0% {\n",
              "      border-color: transparent;\n",
              "      border-bottom-color: var(--fill-color);\n",
              "      border-left-color: var(--fill-color);\n",
              "    }\n",
              "    20% {\n",
              "      border-color: transparent;\n",
              "      border-left-color: var(--fill-color);\n",
              "      border-top-color: var(--fill-color);\n",
              "    }\n",
              "    30% {\n",
              "      border-color: transparent;\n",
              "      border-left-color: var(--fill-color);\n",
              "      border-top-color: var(--fill-color);\n",
              "      border-right-color: var(--fill-color);\n",
              "    }\n",
              "    40% {\n",
              "      border-color: transparent;\n",
              "      border-right-color: var(--fill-color);\n",
              "      border-top-color: var(--fill-color);\n",
              "    }\n",
              "    60% {\n",
              "      border-color: transparent;\n",
              "      border-right-color: var(--fill-color);\n",
              "    }\n",
              "    80% {\n",
              "      border-color: transparent;\n",
              "      border-right-color: var(--fill-color);\n",
              "      border-bottom-color: var(--fill-color);\n",
              "    }\n",
              "    90% {\n",
              "      border-color: transparent;\n",
              "      border-bottom-color: var(--fill-color);\n",
              "    }\n",
              "  }\n",
              "</style>\n",
              "\n",
              "      <script>\n",
              "        async function quickchart(key) {\n",
              "          const quickchartButtonEl =\n",
              "            document.querySelector('#' + key + ' button');\n",
              "          quickchartButtonEl.disabled = true;  // To prevent multiple clicks.\n",
              "          quickchartButtonEl.classList.add('colab-df-spinner');\n",
              "          try {\n",
              "            const charts = await google.colab.kernel.invokeFunction(\n",
              "                'suggestCharts', [key], {});\n",
              "          } catch (error) {\n",
              "            console.error('Error during call to suggestCharts:', error);\n",
              "          }\n",
              "          quickchartButtonEl.classList.remove('colab-df-spinner');\n",
              "          quickchartButtonEl.classList.add('colab-df-quickchart-complete');\n",
              "        }\n",
              "        (() => {\n",
              "          let quickchartButtonEl =\n",
              "            document.querySelector('#df-f377ffbc-6a18-4de4-a678-5eb87ef6e4b4 button');\n",
              "          quickchartButtonEl.style.display =\n",
              "            google.colab.kernel.accessAllowed ? 'block' : 'none';\n",
              "        })();\n",
              "      </script>\n",
              "    </div>\n",
              "\n",
              "    </div>\n",
              "  </div>\n"
            ],
            "application/vnd.google.colaboratory.intrinsic+json": {
              "type": "dataframe",
              "variable_name": "df"
            }
          },
          "metadata": {},
          "execution_count": 3
        }
      ]
    },
    {
      "cell_type": "code",
      "source": [
        "from imblearn.over_sampling import SMOTE\n",
        "from imblearn.under_sampling import RandomUnderSampler\n",
        "from imblearn.pipeline import Pipeline\n",
        "#Aplicamos SMOTE\n",
        "X_combo = df[categorical_columns + numerical_columns].copy()\n",
        "y_combo = df['is_fraud']\n",
        "X_combo_encoded = X_combo.copy()\n",
        "label_encoders = {}\n",
        "\n",
        "for col in categorical_columns:\n",
        "    le = LabelEncoder()\n",
        "    X_combo_encoded[col] = le.fit_transform(X_combo[col])\n",
        "    label_encoders[col] = le\n",
        "\n",
        "# Crear pipeline de balanceo\n",
        "over = SMOTE(sampling_strategy=0.1, random_state=42)  # 10% fraude\n",
        "under = RandomUnderSampler(sampling_strategy=0.2, random_state=42)  # 20% fraude final\n",
        "steps = [('o', over), ('u', under)]\n",
        "pipeline = Pipeline(steps=steps)\n",
        "\n",
        "# Aplicar pipeline\n",
        "X_balanced, y_balanced = pipeline.fit_resample(X_combo_encoded, y_combo)\n",
        "\n",
        "print(f\"Forma original: {X_combo_encoded.shape}\")\n",
        "print(f\"Forma balanceada: {X_balanced.shape}\")\n",
        "print(f\"Balance final: {y_balanced.mean()*100:.2f}% fraude\")\n",
        "\n",
        "# Crear DataFrame final balanceado\n",
        "df_final_balanced = pd.DataFrame(X_balanced, columns=X_combo_encoded.columns)\n",
        "df_final_balanced['is_fraud'] = y_balanced\n",
        "\n",
        "# Decodificar variables categóricas\n",
        "for col, le in label_encoders.items():\n",
        "    try:\n",
        "        df_final_balanced[col] = le.inverse_transform(df_final_balanced[col].round().astype(int))\n",
        "    except:\n",
        "        # Si hay problemas con valores fuera de rango, mantener como numéricos\n",
        "        pass"
      ],
      "metadata": {
        "colab": {
          "base_uri": "https://localhost:8080/"
        },
        "id": "R89Cr5hkExZX",
        "outputId": "170d38d1-fd9e-4b96-ef7e-05752250876b"
      },
      "id": "R89Cr5hkExZX",
      "execution_count": 4,
      "outputs": [
        {
          "output_type": "stream",
          "name": "stdout",
          "text": [
            "Forma original: (185239, 17)\n",
            "Forma balanceada: (110544, 17)\n",
            "Balance final: 16.67% fraude\n"
          ]
        }
      ]
    },
    {
      "cell_type": "code",
      "source": [
        "X = df_final_balanced[categorical_columns + numerical_columns]\n",
        "y = df_final_balanced['is_fraud']\n",
        "# Codificación one-hot\n",
        "X_encoded = pd.get_dummies(X, columns=categorical_columns, prefix=categorical_columns)"
      ],
      "metadata": {
        "id": "QYS5ZoBb8Xze"
      },
      "id": "QYS5ZoBb8Xze",
      "execution_count": 5,
      "outputs": []
    },
    {
      "cell_type": "code",
      "source": [
        "X_train, X_temp, y_train, y_temp = train_test_split(X_encoded, y, test_size=0.3, random_state=42, stratify=y)\n",
        "X_val, X_test, y_val, y_test = train_test_split(X_temp, y_temp, test_size=0.5, random_state=42, stratify=y_temp)\n",
        "# Escalar características numéricas\n",
        "scaler = StandardScaler()\n",
        "X_train_scaled = scaler.fit_transform(X_train)\n",
        "X_val_scaled = scaler.transform(X_val)\n",
        "X_test_scaled = scaler.transform(X_test)\n",
        "# Convertir a DF\n",
        "X_train_scaled = pd.DataFrame(X_train_scaled, columns=X_train.columns)\n",
        "X_val_scaled = pd.DataFrame(X_val_scaled, columns=X_val.columns)\n",
        "X_test_scaled = pd.DataFrame(X_test_scaled, columns=X_test.columns)\n",
        "print(\"Datos divididos y escalados\")\n",
        "print(f\"Entrenamiento: {X_train_scaled.shape}\")\n",
        "print(f\"Validación: {X_val_scaled.shape}\")\n",
        "print(f\"Prueba: {X_test_scaled.shape}\")"
      ],
      "metadata": {
        "colab": {
          "base_uri": "https://localhost:8080/"
        },
        "id": "WKGVM7YU8sv_",
        "outputId": "9604c4a1-45bc-46dd-d0a3-7bef188c42d0"
      },
      "id": "WKGVM7YU8sv_",
      "execution_count": 6,
      "outputs": [
        {
          "output_type": "stream",
          "name": "stdout",
          "text": [
            "Datos divididos y escalados\n",
            "Entrenamiento: (77380, 2143)\n",
            "Validación: (16582, 2143)\n",
            "Prueba: (16582, 2143)\n"
          ]
        }
      ]
    },
    {
      "cell_type": "code",
      "source": [
        "df = df_final_balanced.copy()\n",
        "categorical_columns = ['category', 'gender', 'state', 'job', 'city', 'merchant']\n",
        "numerical_columns = ['amt', 'lat', 'long', 'city_pop', 'merch_lat', 'merch_long',\n",
        "                     'day', 'month', 'hour', 'minute', 'age']\n",
        "X = df[categorical_columns + numerical_columns]\n",
        "y = df['is_fraud']"
      ],
      "metadata": {
        "id": "s8Y9pwdA7s4J"
      },
      "id": "s8Y9pwdA7s4J",
      "execution_count": 7,
      "outputs": []
    },
    {
      "cell_type": "code",
      "source": [
        "X_encoded = pd.get_dummies(X, columns=categorical_columns, prefix=categorical_columns)\n",
        "X_train, X_test, y_train, y_test = train_test_split(X_encoded, y, test_size=0.2, random_state=42, stratify=y)"
      ],
      "metadata": {
        "id": "9BfKbGKRGQUn"
      },
      "id": "9BfKbGKRGQUn",
      "execution_count": 8,
      "outputs": []
    },
    {
      "cell_type": "code",
      "source": [
        "#Escalar\n",
        "# numéricas\n",
        "numeric_columns_for_scaling = [col for col in numerical_columns if col in X_train.columns]\n",
        "scaler = StandardScaler()\n",
        "#Train\n",
        "X_train_scaled_df = X_train.copy()\n",
        "X_train_scaled_df[numeric_columns_for_scaling] = scaler.fit_transform(X_train[numeric_columns_for_scaling])\n",
        "# Test\n",
        "X_val_scaled_df = X_val.copy()\n",
        "X_val_scaled_df[numeric_columns_for_scaling] = scaler.transform(X_val[numeric_columns_for_scaling])\n",
        "# ooo\n",
        "X_test_scaled_df = X_test.copy()\n",
        "X_test_scaled_df[numeric_columns_for_scaling] = scaler.transform(X_test[numeric_columns_for_scaling])"
      ],
      "metadata": {
        "id": "OouLG7TuGgq8"
      },
      "id": "OouLG7TuGgq8",
      "execution_count": 9,
      "outputs": []
    },
    {
      "cell_type": "code",
      "source": [
        "#  REGRESIÓN LOGÍSTICA CON ESCALADOS\n",
        "lr_model = LogisticRegression(random_state=42, max_iter=1000, class_weight='balanced', C=1.0)\n",
        "# Entrenar con datos de entrenamiento escalados\n",
        "lr_model.fit(X_train_scaled_df, y_train)\n",
        "# Validar con datos de validación\n",
        "val_pred = lr_model.predict(X_val_scaled_df)\n",
        "val_recall = recall_score(y_val, val_pred, zero_division=0)\n",
        "val_precision = precision_score(y_val, val_pred, zero_division=0)\n",
        "print(f\"✅ Modelo validado:\")\n",
        "print(f\"   Recall (validación): {val_recall:.4f}\")\n",
        "print(f\"   Precision (validación): {val_precision:.4f}\")"
      ],
      "metadata": {
        "colab": {
          "base_uri": "https://localhost:8080/"
        },
        "id": "XQUV3bgCGwBi",
        "outputId": "88c00cd0-6060-4936-f877-7d60cbb17629"
      },
      "id": "XQUV3bgCGwBi",
      "execution_count": 10,
      "outputs": [
        {
          "output_type": "stream",
          "name": "stdout",
          "text": [
            "✅ Modelo validado:\n",
            "   Recall (validación): 0.9106\n",
            "   Precision (validación): 0.8451\n"
          ]
        }
      ]
    },
    {
      "cell_type": "code",
      "source": [
        "# EVALUAR CON DATOS DE PRUEBA\n",
        "print(\"EVALUACIÓN FINAL CON DATOS DE PRUEBA\")\n",
        "# Predicciones finales\n",
        "y_pred = lr_model.predict(X_test_scaled_df)\n",
        "y_pred_proba = lr_model.predict_proba(X_test_scaled_df)[:, 1]\n",
        "# Métricas finales\n",
        "accuracy = np.mean(y_pred == y_test)\n",
        "precision = precision_score(y_test, y_pred, zero_division=0)\n",
        "recall = recall_score(y_test, y_pred, zero_division=0)\n",
        "f1 = f1_score(y_test, y_pred, zero_division=0)\n",
        "roc_auc = roc_auc_score(y_test, y_pred_proba)\n",
        "print(f\"Accuracy:  {accuracy:.4f}\")\n",
        "print(f\"Precision: {precision:.4f}\")\n",
        "print(f\"Recall:    {recall:.4f}\")\n",
        "print(f\"F1-Score:  {f1:.4f}\")\n",
        "print(f\"ROC AUC:   {roc_auc:.4f}\")"
      ],
      "metadata": {
        "colab": {
          "base_uri": "https://localhost:8080/"
        },
        "id": "C1xYZ4F4G1qW",
        "outputId": "b0e63ac9-4b67-427d-80c2-67907619d0a1"
      },
      "id": "C1xYZ4F4G1qW",
      "execution_count": 11,
      "outputs": [
        {
          "output_type": "stream",
          "name": "stdout",
          "text": [
            "EVALUACIÓN FINAL CON DATOS DE PRUEBA\n",
            "Accuracy:  0.9523\n",
            "Precision: 0.8296\n",
            "Recall:    0.8985\n",
            "F1-Score:  0.8627\n",
            "ROC AUC:   0.9749\n"
          ]
        }
      ]
    },
    {
      "cell_type": "markdown",
      "source": [
        "* El recall es del 0.89, es aceptable según nuestra definición inicial del proyecto."
      ],
      "metadata": {
        "id": "zshsAUEPUU7Z"
      },
      "id": "zshsAUEPUU7Z"
    },
    {
      "cell_type": "code",
      "source": [
        "# VALIDACIÓN CRUZADA\n",
        "from sklearn.model_selection import cross_val_score, StratifiedKFold\n",
        "cv = StratifiedKFold(n_splits=5, shuffle=True, random_state=42)\n",
        "# Métricas\n",
        "scoring_metrics = ['accuracy', 'precision', 'recall', 'f1', 'roc_auc']\n",
        "#\n",
        "cv_results = {}\n",
        "cv_std = {}\n",
        "\n",
        "print(\" Resultados de Validación Cruzada (5-Fold):\")\n",
        "print(\"-\" * 50)\n",
        "\n",
        "for metric in scoring_metrics:\n",
        "    try:\n",
        "        scores = cross_val_score(lr_model, X_train_scaled_df, y_train,\n",
        "                               cv=cv, scoring=metric, n_jobs=-1)\n",
        "        cv_results[metric] = scores.mean()\n",
        "        cv_std[metric] = scores.std()\n",
        "        print(f\"{metric.capitalize():>12}: {scores.mean():.4f} (+/- {scores.std() * 2:.4f})\")\n",
        "    except Exception as e:\n",
        "        print(f\"{metric.capitalize():>12}: Error - {e}\")\n",
        "\n",
        "print(\"-\" * 50)"
      ],
      "metadata": {
        "colab": {
          "base_uri": "https://localhost:8080/"
        },
        "id": "t1a4lgkufhv_",
        "outputId": "a3c71689-bde3-4830-f47d-468dd3d3080b"
      },
      "id": "t1a4lgkufhv_",
      "execution_count": 12,
      "outputs": [
        {
          "output_type": "stream",
          "name": "stdout",
          "text": [
            "📊 Resultados de Validación Cruzada (5-Fold):\n",
            "--------------------------------------------------\n",
            "    Accuracy: 0.9530 (+/- 0.0019)\n",
            "   Precision: 0.8352 (+/- 0.0099)\n",
            "      Recall: 0.8943 (+/- 0.0071)\n",
            "          F1: 0.8637 (+/- 0.0048)\n",
            "     Roc_auc: 0.9719 (+/- 0.0004)\n",
            "--------------------------------------------------\n"
          ]
        }
      ]
    },
    {
      "cell_type": "code",
      "source": [
        "# ESTABILIDAD DEL MODELO\n",
        "# Calcular coeficiente de variación para cada métrica\n",
        "print(\"Coeficiente de variación (CV = std/mean):\")\n",
        "print(\"-\" * 40)\n",
        "stability_analysis = {}\n",
        "for metric in scoring_metrics:\n",
        "    if metric in cv_results and cv_results[metric] != 0:\n",
        "        # Recalcular scores para obtener std\n",
        "        scores = cross_val_score(lr_model, X_train_scaled_df, y_train,\n",
        "                               cv=cv, scoring=metric, n_jobs=-1)\n",
        "        mean_score = scores.mean()\n",
        "        std_score = scores.std()\n",
        "\n",
        "        if mean_score != 0:\n",
        "            cv_ratio = std_score / mean_score\n",
        "            stability_analysis[metric] = cv_ratio\n",
        "            print(f\"{metric.capitalize():<12}: {cv_ratio:.4f}\")\n",
        "        else:\n",
        "            print(f\"{metric.capitalize():<12}: Inf (mean = 0)\")\n",
        "\n",
        "# Interpretación simple\n",
        "print(\"\\n Interpretación de Estabilidad:\")\n",
        "print(\"-\" * 30)\n",
        "for metric, cv_ratio in stability_analysis.items():\n",
        "    if cv_ratio < 0.1:\n",
        "        stability = \"1. Muy estable\"\n",
        "    elif cv_ratio < 0.2:\n",
        "        stability = \"2. Moderadamente estable\"\n",
        "    else:\n",
        "        stability = \"3. Poco estable\"\n",
        "    print(f\"{metric.capitalize():<12}: {stability}\")"
      ],
      "metadata": {
        "colab": {
          "base_uri": "https://localhost:8080/"
        },
        "id": "wlkyFlRphpGn",
        "outputId": "a8446e9c-cc7b-410a-f21d-dd837df848f2"
      },
      "id": "wlkyFlRphpGn",
      "execution_count": 13,
      "outputs": [
        {
          "output_type": "stream",
          "name": "stdout",
          "text": [
            "Coeficiente de variación (CV = std/mean):\n",
            "----------------------------------------\n",
            "Accuracy    : 0.0010\n",
            "Precision   : 0.0059\n",
            "Recall      : 0.0040\n",
            "F1          : 0.0028\n",
            "Roc_auc     : 0.0002\n",
            "\n",
            "🎯 Interpretación de Estabilidad:\n",
            "------------------------------\n",
            "Accuracy    : ✅ Muy estable\n",
            "Precision   : ✅ Muy estable\n",
            "Recall      : ✅ Muy estable\n",
            "F1          : ✅ Muy estable\n",
            "Roc_auc     : ✅ Muy estable\n"
          ]
        }
      ]
    },
    {
      "cell_type": "code",
      "source": [
        "print(\"=\"*60)\n",
        "# Resumen comparativo\n",
        "print(f\"{'Métrica':<12} {'Holdout':<10} {'CV Mean':<10} {'CV Std':<10} {'Diferencia':<12}\")\n",
        "print(\"-\" * 60)\n",
        "\n",
        "for metric in scoring_metrics:\n",
        "    holdout_score = (\n",
        "        accuracy if metric == 'accuracy' else\n",
        "        precision if metric == 'precision' else\n",
        "        recall if metric == 'recall' else\n",
        "        f1 if metric == 'f1' else\n",
        "        roc_auc\n",
        "    )\n",
        "\n",
        "    if metric in cv_results:\n",
        "        cv_mean = cv_results[metric]\n",
        "        cv_std_val = cv_std[metric]\n",
        "        diff = abs(holdout_score - cv_mean)\n",
        "\n",
        "        print(f\"{metric.capitalize():<12} \"\n",
        "              f\"{holdout_score:<10.4f} \"\n",
        "              f\"{cv_mean:<10.4f} \"\n",
        "              f\"{cv_std_val:<10.4f} \"\n",
        "              f\"{diff:<12.4f}\")\n",
        "\n",
        "print(\"-\" * 60)"
      ],
      "metadata": {
        "colab": {
          "base_uri": "https://localhost:8080/"
        },
        "id": "Te2Z_Qg-iB3c",
        "outputId": "0deeeab6-b48c-475f-eac3-c3880f21ba39"
      },
      "id": "Te2Z_Qg-iB3c",
      "execution_count": 14,
      "outputs": [
        {
          "output_type": "stream",
          "name": "stdout",
          "text": [
            "============================================================\n",
            "Métrica      Holdout    CV Mean    CV Std     Diferencia  \n",
            "------------------------------------------------------------\n",
            "Accuracy     0.9523     0.9530     0.0009     0.0006      \n",
            "Precision    0.8296     0.8352     0.0049     0.0056      \n",
            "Recall       0.8985     0.8943     0.0035     0.0042      \n",
            "F1           0.8627     0.8637     0.0024     0.0010      \n",
            "Roc_auc      0.9749     0.9719     0.0002     0.0030      \n",
            "------------------------------------------------------------\n"
          ]
        }
      ]
    },
    {
      "cell_type": "code",
      "source": [
        "# GUARDAR RESULTADOS SIMPLES DE VALIDACIÓN CRUZADA\n",
        "print(\"💾 GUARDANDO RESULTADOS SIMPLES\")\n",
        "print(\"=\"*40)\n",
        "\n",
        "# Crear diccionario simple con resultados\n",
        "simple_cv_summary = {\n",
        "    'validation_method': '5-Fold Stratified Cross Validation',\n",
        "    'results': {},\n",
        "    'stability': {}\n",
        "}\n",
        "\n",
        "for metric in scoring_metrics:\n",
        "    if metric in cv_results:\n",
        "        simple_cv_summary['results'][metric] = {\n",
        "            'holdout': float(\n",
        "                accuracy if metric == 'accuracy' else\n",
        "                precision if metric == 'precision' else\n",
        "                recall if metric == 'recall' else\n",
        "                f1 if metric == 'f1' else\n",
        "                roc_auc\n",
        "            ),\n",
        "            'cv_mean': float(cv_results[metric]),\n",
        "            'cv_std': float(cv_std[metric])\n",
        "        }\n",
        "\n",
        "        # Análisis de estabilidad\n",
        "        if cv_results[metric] != 0:\n",
        "            cv_ratio = cv_std[metric] / cv_results[metric]\n",
        "            simple_cv_summary['stability'][metric] = float(cv_ratio)\n",
        "\n",
        "# Guardar resultados\n",
        "import json\n",
        "with open('/content/resultados_validacion_simple.json', 'w') as f:\n",
        "    json.dump(simple_cv_summary, f, indent=2)\n",
        "\n",
        "print(\"✅ Resultados de validación cruzada simple guardados\")\n",
        "print(\"📁 Archivo: resultados_validacion_simple.json\")\n",
        "\n",
        "# Mostrar conclusión final\n",
        "print(f\"\\n📋 CONCLUSIÓN FINAL:\")\n",
        "print(f\"   Recall Holdout: {recall:.4f}\")\n",
        "print(f\"   Recall CV Mean: {simple_cv_summary['results']['recall']['cv_mean']:.4f}\")\n",
        "print(f\"   Diferencia: {abs(recall - simple_cv_summary['results']['recall']['cv_mean']):.4f}\")\n",
        "if abs(recall - simple_cv_summary['results']['recall']['cv_mean']) < 0.05:\n",
        "    print(\"   🎯 Buena consistencia entre holdout y validación cruzada\")\n",
        "else:\n",
        "    print(\"   ⚠️  Revisar posibles problemas de división de datos\")"
      ],
      "metadata": {
        "colab": {
          "base_uri": "https://localhost:8080/"
        },
        "id": "8HAlYvzBiQAv",
        "outputId": "1758b517-7a3d-4ae0-f487-c02f06e29bc3"
      },
      "id": "8HAlYvzBiQAv",
      "execution_count": 17,
      "outputs": [
        {
          "output_type": "stream",
          "name": "stdout",
          "text": [
            "💾 GUARDANDO RESULTADOS SIMPLES\n",
            "========================================\n",
            "✅ Resultados de validación cruzada simple guardados\n",
            "📁 Archivo: resultados_validacion_simple.json\n",
            "\n",
            "📋 CONCLUSIÓN FINAL:\n",
            "   Recall Holdout: 0.8985\n",
            "   Recall CV Mean: 0.8943\n",
            "   Diferencia: 0.0042\n",
            "   🎯 Buena consistencia entre holdout y validación cruzada\n"
          ]
        }
      ]
    },
    {
      "cell_type": "markdown",
      "source": [
        "## Guardar el modelo y componentes"
      ],
      "metadata": {
        "id": "krTZJP9C1ccO"
      },
      "id": "krTZJP9C1ccO"
    },
    {
      "cell_type": "code",
      "source": [
        "print(\"💾 GUARDANDO COMPONENTES PARA DESPLIEGUE\")\n",
        "print(\"=\"*50)\n",
        "import joblib\n",
        "import json\n",
        "import os\n",
        "\n",
        "os.makedirs('modelo', exist_ok=True)\n",
        "# Guardar modelo entrenado\n",
        "joblib.dump(lr_model, 'modelo/modelo_fraude.pkl')\n",
        "print(\"✅ Modelo guardado: modelo/modelo_fraude.pkl\")\n",
        "# Guardar scaler\n",
        "joblib.dump(scaler, 'modelo/scaler.pkl')\n",
        "print(\"✅ Scaler guardado: modelo/scaler.pkl\")\n",
        "\n",
        "# Guardar características\n",
        "features_info = {\n",
        "    'numeric_features': numeric_columns_for_scaling,\n",
        "    'categorical_features': categorical_columns,\n",
        "    'all_features': list(X_train_scaled_df.columns)\n",
        "}\n",
        "\n",
        "with open('modelo/features.json', 'w') as f:\n",
        "    json.dump(features_info, f, indent=2)\n",
        "print(\"✅ Información de características guardada: modelo/features.json\")\n",
        "\n",
        "# Guardar el resumen de resultados\n",
        "with open('modelo/metricas_finales.json', 'w') as f:\n",
        "    metricas = {\n",
        "        'accuracy': float(accuracy),\n",
        "        'precision': float(precision),\n",
        "        'recall': float(recall),\n",
        "        'f1_score': float(f1),\n",
        "        'roc_auc': float(roc_auc),\n",
        "        'cv_recall_mean': float(simple_cv_summary['results']['recall']['cv_mean']),\n",
        "        'cv_recall_std': float(simple_cv_summary['results']['recall']['cv_std'])\n",
        "    }\n",
        "    json.dump(metricas, f, indent=2)\n",
        "print(\"Métricas finales guardadas: modelo/metricas_finales.json\")\n",
        "\n",
        "print(\"\\n📁 Estructura creada:\")\n",
        "print(\"   /modelo/\")\n",
        "print(\"   ├── modelo_fraude.pkl\")\n",
        "print(\"   ├── scaler.pkl\")\n",
        "print(\"   ├── features.json\")\n",
        "print(\"   └── metricas_finales.json\")\n",
        "\n",
        "print(\"\\nTodo OK. Guardado para despliegue.\")"
      ],
      "metadata": {
        "colab": {
          "base_uri": "https://localhost:8080/"
        },
        "id": "C-Tkk_t_1btg",
        "outputId": "f7f3f3f3-d4b3-4ddb-8d2b-f4be0e9da003"
      },
      "id": "C-Tkk_t_1btg",
      "execution_count": 18,
      "outputs": [
        {
          "output_type": "stream",
          "name": "stdout",
          "text": [
            "💾 GUARDANDO COMPONENTES PARA DESPLIEGUE\n",
            "==================================================\n",
            "✅ Modelo guardado: modelo/modelo_fraude.pkl\n",
            "✅ Scaler guardado: modelo/scaler.pkl\n",
            "✅ Información de características guardada: modelo/features.json\n",
            "Métricas finales guardadas: modelo/metricas_finales.json\n",
            "\n",
            "📁 Estructura creada:\n",
            "   /modelo/\n",
            "   ├── modelo_fraude.pkl\n",
            "   ├── scaler.pkl\n",
            "   ├── features.json\n",
            "   └── metricas_finales.json\n",
            "\n",
            "Todo OK. Guardado para despliegue.\n"
          ]
        }
      ]
    }
  ],
  "metadata": {
    "colab": {
      "provenance": []
    },
    "jupytext": {
      "cell_metadata_filter": "-all"
    },
    "kernelspec": {
      "display_name": "base",
      "language": "python",
      "name": "python3"
    },
    "language_info": {
      "codemirror_mode": {
        "name": "ipython",
        "version": 3
      },
      "file_extension": ".py",
      "mimetype": "text/x-python",
      "name": "python",
      "nbconvert_exporter": "python",
      "pygments_lexer": "ipython3",
      "version": "3.12.4"
    }
  },
  "nbformat": 4,
  "nbformat_minor": 5
}